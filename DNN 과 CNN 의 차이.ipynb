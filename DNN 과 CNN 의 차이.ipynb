{
 "cells": [
  {
   "cell_type": "markdown",
   "metadata": {},
   "source": [
    "# Convolution 과정\n",
    "# 이 과정은 데이터의 특징을 추출하는 과정이다. 데이터에 각 성분의 인접 성분들을 조사해 특징을 파악한다. 그리고 파악한 특징을 한장으로 도출시키는 과정이다. 여기서 도출된 장을 Convolution layer이라고 부른다. 쉽게 표현하면, 이미지의 특정부분을 추상화 하여 특정 층으로 표현한다. 이 과정은 하나의 압축과정이라고 생각 할 수있다. Parameter의 갯수를 효과적으로 줄여준다."
   ]
  },
  {
   "cell_type": "markdown",
   "metadata": {},
   "source": [
    "# Pooling 과정\n",
    "# 이 과정은 Convolution 과정을 거친 layer의 사이즈를 줄여주는 과정이다. 단순히 데이터의 사이즈를 줄여주며, 노이즈를 상쇄시키고, 미세한 부분에서 일관적인 특징을 제공한다. Sub-sampling 이라고 부르는 이 과정은 Max-pooling, Average-pooling, L2-norm pooling 방법이 있다. 보통은 Convolution과정에서 만들어진 feature들의 가장 큰 값들만 가져와 사이즈를 줄인다. (Max-pooling)"
   ]
  },
  {
   "cell_type": "markdown",
   "metadata": {},
   "source": [
    "# -가장 많이 사용되는 방법은 맥스 풀링\n",
    "# -큰값만 다음층으로 넘기고 나머지는 버림"
   ]
  },
  {
   "cell_type": "code",
   "execution_count": null,
   "metadata": {},
   "outputs": [],
   "source": []
  }
 ],
 "metadata": {
  "kernelspec": {
   "display_name": "Python 3",
   "language": "python",
   "name": "python3"
  },
  "language_info": {
   "codemirror_mode": {
    "name": "ipython",
    "version": 3
   },
   "file_extension": ".py",
   "mimetype": "text/x-python",
   "name": "python",
   "nbconvert_exporter": "python",
   "pygments_lexer": "ipython3",
   "version": "3.7.7"
  }
 },
 "nbformat": 4,
 "nbformat_minor": 4
}
