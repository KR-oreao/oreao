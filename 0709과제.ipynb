{
 "cells": [
  {
   "cell_type": "code",
   "execution_count": 34,
   "metadata": {},
   "outputs": [],
   "source": [
    "import pandas as pd\n",
    "from string import punctuation\n",
    "import statsmodels.api as sm\n",
    "from tensorflow import keras\n",
    "from keras.models import Sequential\n",
    "from keras.layers import Embedding, Dense, LSTM\n",
    "from keras.preprocessing.text import Tokenizer\n",
    "from keras.preprocessing.sequence import pad_sequences\n",
    "from keras.utils import to_categorical"
   ]
  },
  {
   "cell_type": "code",
   "execution_count": 68,
   "metadata": {
    "scrolled": false
   },
   "outputs": [
    {
     "data": {
      "text/html": [
       "<div>\n",
       "<style scoped>\n",
       "    .dataframe tbody tr th:only-of-type {\n",
       "        vertical-align: middle;\n",
       "    }\n",
       "\n",
       "    .dataframe tbody tr th {\n",
       "        vertical-align: top;\n",
       "    }\n",
       "\n",
       "    .dataframe thead th {\n",
       "        text-align: right;\n",
       "    }\n",
       "</style>\n",
       "<table border=\"1\" class=\"dataframe\">\n",
       "  <thead>\n",
       "    <tr style=\"text-align: right;\">\n",
       "      <th></th>\n",
       "      <th>abstract</th>\n",
       "      <th>articleID</th>\n",
       "      <th>articleWordCount</th>\n",
       "      <th>byline</th>\n",
       "      <th>documentType</th>\n",
       "      <th>headline</th>\n",
       "      <th>keywords</th>\n",
       "      <th>multimedia</th>\n",
       "      <th>newDesk</th>\n",
       "      <th>printPage</th>\n",
       "      <th>pubDate</th>\n",
       "      <th>sectionName</th>\n",
       "      <th>snippet</th>\n",
       "      <th>source</th>\n",
       "      <th>typeOfMaterial</th>\n",
       "      <th>webURL</th>\n",
       "    </tr>\n",
       "  </thead>\n",
       "  <tbody>\n",
       "    <tr>\n",
       "      <th>0</th>\n",
       "      <td>NaN</td>\n",
       "      <td>5906b3197c459f24986dd003</td>\n",
       "      <td>2412</td>\n",
       "      <td>By IAN JOHNSON</td>\n",
       "      <td>article</td>\n",
       "      <td>My Beijing: The Sacred City</td>\n",
       "      <td>['Travel and Vacations', 'Beijing (China)', 'R...</td>\n",
       "      <td>3</td>\n",
       "      <td>Travel</td>\n",
       "      <td>1</td>\n",
       "      <td>2017-05-01 04:01:21</td>\n",
       "      <td>Unknown</td>\n",
       "      <td>This metropolis was once a total work of art, ...</td>\n",
       "      <td>The New York Times</td>\n",
       "      <td>News</td>\n",
       "      <td>https://www.nytimes.com/2017/05/01/travel/beij...</td>\n",
       "    </tr>\n",
       "    <tr>\n",
       "      <th>1</th>\n",
       "      <td>NaN</td>\n",
       "      <td>5906b3297c459f24986dd004</td>\n",
       "      <td>2318</td>\n",
       "      <td>By EMMA G. FITZSIMMONS</td>\n",
       "      <td>article</td>\n",
       "      <td>6 Million Riders a Day, 1930s Technology</td>\n",
       "      <td>['Subways', 'Delays (Transportation)', 'Transi...</td>\n",
       "      <td>68</td>\n",
       "      <td>Metro</td>\n",
       "      <td>1</td>\n",
       "      <td>2017-05-01 04:01:33</td>\n",
       "      <td>Unknown</td>\n",
       "      <td>New York’s subway is struggling with old infra...</td>\n",
       "      <td>The New York Times</td>\n",
       "      <td>News</td>\n",
       "      <td>https://www.nytimes.com/2017/05/01/nyregion/ne...</td>\n",
       "    </tr>\n",
       "    <tr>\n",
       "      <th>2</th>\n",
       "      <td>NaN</td>\n",
       "      <td>5906ceec7c459f24986dd021</td>\n",
       "      <td>1795</td>\n",
       "      <td>By MARC TRACY</td>\n",
       "      <td>article</td>\n",
       "      <td>Seeking a Cross-Border Conference</td>\n",
       "      <td>['Cetys University', 'College Athletics', 'Nat...</td>\n",
       "      <td>3</td>\n",
       "      <td>Sports</td>\n",
       "      <td>1</td>\n",
       "      <td>2017-05-01 06:00:05</td>\n",
       "      <td>Unknown</td>\n",
       "      <td>Cetys University is making an ambitious bid to...</td>\n",
       "      <td>The New York Times</td>\n",
       "      <td>News</td>\n",
       "      <td>https://www.nytimes.com/2017/05/01/sports/mexi...</td>\n",
       "    </tr>\n",
       "    <tr>\n",
       "      <th>3</th>\n",
       "      <td>NaN</td>\n",
       "      <td>5906cfa77c459f24986dd022</td>\n",
       "      <td>213</td>\n",
       "      <td>By SHANNON DOYNE</td>\n",
       "      <td>article</td>\n",
       "      <td>Questions for: ‘Despite the “Yuck Factor,” Lee...</td>\n",
       "      <td>[]</td>\n",
       "      <td>3</td>\n",
       "      <td>Learning</td>\n",
       "      <td>0</td>\n",
       "      <td>2017-05-01 06:03:03</td>\n",
       "      <td>Unknown</td>\n",
       "      <td>How are leeches used to treat various medical ...</td>\n",
       "      <td>The New York Times</td>\n",
       "      <td>News</td>\n",
       "      <td>https://www.nytimes.com/2017/05/01/learning/qu...</td>\n",
       "    </tr>\n",
       "    <tr>\n",
       "      <th>4</th>\n",
       "      <td>NaN</td>\n",
       "      <td>5906e1c07c459f24986dd039</td>\n",
       "      <td>1342</td>\n",
       "      <td>By JASON STANLEY</td>\n",
       "      <td>article</td>\n",
       "      <td>Who Is a ‘Criminal’?</td>\n",
       "      <td>['Illegal Immigration', 'Traffic and Parking V...</td>\n",
       "      <td>3</td>\n",
       "      <td>OpEd</td>\n",
       "      <td>0</td>\n",
       "      <td>2017-05-01 07:20:26</td>\n",
       "      <td>Unknown</td>\n",
       "      <td>Justice Roberts was right. The Trump administr...</td>\n",
       "      <td>The New York Times</td>\n",
       "      <td>Op-Ed</td>\n",
       "      <td>https://www.nytimes.com/2017/05/01/opinion/who...</td>\n",
       "    </tr>\n",
       "  </tbody>\n",
       "</table>\n",
       "</div>"
      ],
      "text/plain": [
       "  abstract                 articleID  articleWordCount  \\\n",
       "0      NaN  5906b3197c459f24986dd003              2412   \n",
       "1      NaN  5906b3297c459f24986dd004              2318   \n",
       "2      NaN  5906ceec7c459f24986dd021              1795   \n",
       "3      NaN  5906cfa77c459f24986dd022               213   \n",
       "4      NaN  5906e1c07c459f24986dd039              1342   \n",
       "\n",
       "                   byline documentType  \\\n",
       "0          By IAN JOHNSON      article   \n",
       "1  By EMMA G. FITZSIMMONS      article   \n",
       "2           By MARC TRACY      article   \n",
       "3        By SHANNON DOYNE      article   \n",
       "4        By JASON STANLEY      article   \n",
       "\n",
       "                                            headline  \\\n",
       "0                        My Beijing: The Sacred City   \n",
       "1           6 Million Riders a Day, 1930s Technology   \n",
       "2                  Seeking a Cross-Border Conference   \n",
       "3  Questions for: ‘Despite the “Yuck Factor,” Lee...   \n",
       "4                               Who Is a ‘Criminal’?   \n",
       "\n",
       "                                            keywords  multimedia   newDesk  \\\n",
       "0  ['Travel and Vacations', 'Beijing (China)', 'R...           3    Travel   \n",
       "1  ['Subways', 'Delays (Transportation)', 'Transi...          68     Metro   \n",
       "2  ['Cetys University', 'College Athletics', 'Nat...           3    Sports   \n",
       "3                                                 []           3  Learning   \n",
       "4  ['Illegal Immigration', 'Traffic and Parking V...           3      OpEd   \n",
       "\n",
       "   printPage              pubDate sectionName  \\\n",
       "0          1  2017-05-01 04:01:21     Unknown   \n",
       "1          1  2017-05-01 04:01:33     Unknown   \n",
       "2          1  2017-05-01 06:00:05     Unknown   \n",
       "3          0  2017-05-01 06:03:03     Unknown   \n",
       "4          0  2017-05-01 07:20:26     Unknown   \n",
       "\n",
       "                                             snippet              source  \\\n",
       "0  This metropolis was once a total work of art, ...  The New York Times   \n",
       "1  New York’s subway is struggling with old infra...  The New York Times   \n",
       "2  Cetys University is making an ambitious bid to...  The New York Times   \n",
       "3  How are leeches used to treat various medical ...  The New York Times   \n",
       "4  Justice Roberts was right. The Trump administr...  The New York Times   \n",
       "\n",
       "  typeOfMaterial                                             webURL  \n",
       "0           News  https://www.nytimes.com/2017/05/01/travel/beij...  \n",
       "1           News  https://www.nytimes.com/2017/05/01/nyregion/ne...  \n",
       "2           News  https://www.nytimes.com/2017/05/01/sports/mexi...  \n",
       "3           News  https://www.nytimes.com/2017/05/01/learning/qu...  \n",
       "4          Op-Ed  https://www.nytimes.com/2017/05/01/opinion/who...  "
      ]
     },
     "execution_count": 68,
     "metadata": {},
     "output_type": "execute_result"
    }
   ],
   "source": [
    "df=pd.read_csv('ArticlesMay2017.csv', encoding='utf8')\n",
    "df.head()    "
   ]
  },
  {
   "cell_type": "code",
   "execution_count": 129,
   "metadata": {},
   "outputs": [],
   "source": [
    "a = df.iloc[:,[2,5]]"
   ]
  },
  {
   "cell_type": "code",
   "execution_count": 130,
   "metadata": {},
   "outputs": [
    {
     "data": {
      "text/html": [
       "<div>\n",
       "<style scoped>\n",
       "    .dataframe tbody tr th:only-of-type {\n",
       "        vertical-align: middle;\n",
       "    }\n",
       "\n",
       "    .dataframe tbody tr th {\n",
       "        vertical-align: top;\n",
       "    }\n",
       "\n",
       "    .dataframe thead th {\n",
       "        text-align: right;\n",
       "    }\n",
       "</style>\n",
       "<table border=\"1\" class=\"dataframe\">\n",
       "  <thead>\n",
       "    <tr style=\"text-align: right;\">\n",
       "      <th></th>\n",
       "      <th>articleWordCount</th>\n",
       "      <th>headline</th>\n",
       "    </tr>\n",
       "  </thead>\n",
       "  <tbody>\n",
       "    <tr>\n",
       "      <th>0</th>\n",
       "      <td>2412</td>\n",
       "      <td>My Beijing: The Sacred City</td>\n",
       "    </tr>\n",
       "    <tr>\n",
       "      <th>1</th>\n",
       "      <td>2318</td>\n",
       "      <td>6 Million Riders a Day, 1930s Technology</td>\n",
       "    </tr>\n",
       "    <tr>\n",
       "      <th>2</th>\n",
       "      <td>1795</td>\n",
       "      <td>Seeking a Cross-Border Conference</td>\n",
       "    </tr>\n",
       "    <tr>\n",
       "      <th>3</th>\n",
       "      <td>213</td>\n",
       "      <td>Questions for: ‘Despite the “Yuck Factor,” Lee...</td>\n",
       "    </tr>\n",
       "    <tr>\n",
       "      <th>4</th>\n",
       "      <td>1342</td>\n",
       "      <td>Who Is a ‘Criminal’?</td>\n",
       "    </tr>\n",
       "    <tr>\n",
       "      <th>...</th>\n",
       "      <td>...</td>\n",
       "      <td>...</td>\n",
       "    </tr>\n",
       "    <tr>\n",
       "      <th>991</th>\n",
       "      <td>609</td>\n",
       "      <td>Yes, You Can Write More Than One Letter in a S...</td>\n",
       "    </tr>\n",
       "    <tr>\n",
       "      <th>992</th>\n",
       "      <td>797</td>\n",
       "      <td>Trump’s Act  Of Gratuitous Destruction</td>\n",
       "    </tr>\n",
       "    <tr>\n",
       "      <th>993</th>\n",
       "      <td>945</td>\n",
       "      <td>Petty Crime, Daunting Bail</td>\n",
       "    </tr>\n",
       "    <tr>\n",
       "      <th>994</th>\n",
       "      <td>141</td>\n",
       "      <td>Unknown</td>\n",
       "    </tr>\n",
       "    <tr>\n",
       "      <th>995</th>\n",
       "      <td>1176</td>\n",
       "      <td>Bucking Trump, These Cities, States and Compan...</td>\n",
       "    </tr>\n",
       "  </tbody>\n",
       "</table>\n",
       "<p>996 rows × 2 columns</p>\n",
       "</div>"
      ],
      "text/plain": [
       "     articleWordCount                                           headline\n",
       "0                2412                        My Beijing: The Sacred City\n",
       "1                2318           6 Million Riders a Day, 1930s Technology\n",
       "2                1795                  Seeking a Cross-Border Conference\n",
       "3                 213  Questions for: ‘Despite the “Yuck Factor,” Lee...\n",
       "4                1342                               Who Is a ‘Criminal’?\n",
       "..                ...                                                ...\n",
       "991               609  Yes, You Can Write More Than One Letter in a S...\n",
       "992               797             Trump’s Act  Of Gratuitous Destruction\n",
       "993               945                         Petty Crime, Daunting Bail\n",
       "994               141                                            Unknown\n",
       "995              1176  Bucking Trump, These Cities, States and Compan...\n",
       "\n",
       "[996 rows x 2 columns]"
      ]
     },
     "execution_count": 130,
     "metadata": {},
     "output_type": "execute_result"
    }
   ],
   "source": [
    "a"
   ]
  },
  {
   "cell_type": "code",
   "execution_count": 69,
   "metadata": {},
   "outputs": [
    {
     "name": "stdout",
     "output_type": "stream",
     "text": [
      "열의 개수:  16\n",
      "Index(['abstract', 'articleID', 'articleWordCount', 'byline', 'documentType',\n",
      "       'headline', 'keywords', 'multimedia', 'newDesk', 'printPage', 'pubDate',\n",
      "       'sectionName', 'snippet', 'source', 'typeOfMaterial', 'webURL'],\n",
      "      dtype='object')\n"
     ]
    }
   ],
   "source": [
    "print('열의 개수: ', len(df.columns))\n",
    "print(df.columns)"
   ]
  },
  {
   "cell_type": "code",
   "execution_count": 94,
   "metadata": {},
   "outputs": [
    {
     "data": {
      "text/plain": [
       "['My Beijing: The Sacred City',\n",
       " '6 Million Riders a Day, 1930s Technology',\n",
       " 'Seeking a Cross-Border Conference',\n",
       " 'Questions for: ‘Despite the “Yuck Factor,” Leeches Are Big in Russian Medicine’',\n",
       " 'Who Is a ‘Criminal’?']"
      ]
     },
     "execution_count": 94,
     "metadata": {},
     "output_type": "execute_result"
    }
   ],
   "source": [
    "headline = [title for title in df.headline.values]\n",
    "headline[:5]"
   ]
  },
  {
   "cell_type": "code",
   "execution_count": 96,
   "metadata": {
    "scrolled": true
   },
   "outputs": [
    {
     "data": {
      "text/plain": [
       "False"
      ]
     },
     "execution_count": 96,
     "metadata": {},
     "output_type": "execute_result"
    }
   ],
   "source": [
    "df['headline'].isnull().values.any()"
   ]
  },
  {
   "cell_type": "code",
   "execution_count": 97,
   "metadata": {},
   "outputs": [
    {
     "data": {
      "text/plain": [
       "935"
      ]
     },
     "execution_count": 97,
     "metadata": {},
     "output_type": "execute_result"
    }
   ],
   "source": [
    "headline = [title for title in headline if title != 'Unknown']\n",
    "len(headline)"
   ]
  },
  {
   "cell_type": "code",
   "execution_count": 11,
   "metadata": {},
   "outputs": [
    {
     "data": {
      "text/plain": [
       "996"
      ]
     },
     "execution_count": 11,
     "metadata": {},
     "output_type": "execute_result"
    }
   ],
   "source": [
    "len(headline)"
   ]
  },
  {
   "cell_type": "code",
   "execution_count": 98,
   "metadata": {},
   "outputs": [
    {
     "data": {
      "text/plain": [
       "'6 Million Riders a Day, 1930s Technology'"
      ]
     },
     "execution_count": 98,
     "metadata": {},
     "output_type": "execute_result"
    }
   ],
   "source": [
    "df['headline'][1]"
   ]
  },
  {
   "cell_type": "code",
   "execution_count": 16,
   "metadata": {},
   "outputs": [],
   "source": [
    "\n",
    "import matplotlib as mpl\n",
    "import matplotlib.pyplot as plt\n",
    "mpl.rcParams['axes.unicode_minus'] = False\n",
    "mpl.rc('font', family='Malgun Gothic')\n",
    "%matplotlib inline\n",
    "\n",
    "plt.rcParams[\"figure.figsize\"] = (10,6)\n",
    "plt.rcParams[\"font.size\"] = 14"
   ]
  },
  {
   "cell_type": "code",
   "execution_count": 19,
   "metadata": {},
   "outputs": [],
   "source": [
    "def repreprocessing(s):\n",
    "    s=s.encode(\"utf8\").decode(\"ascii\", 'ignore')\n",
    "    return ''.join(c for c in s if c not in punctuation).lower()"
   ]
  },
  {
   "cell_type": "code",
   "execution_count": 21,
   "metadata": {},
   "outputs": [
    {
     "data": {
      "text/plain": [
       "['my beijing the sacred city',\n",
       " '6 million riders a day 1930s technology',\n",
       " 'seeking a crossborder conference',\n",
       " 'questions for despite the yuck factor leeches are big in russian medicine',\n",
       " 'who is a criminal']"
      ]
     },
     "execution_count": 21,
     "metadata": {},
     "output_type": "execute_result"
    }
   ],
   "source": [
    "text = [repreprocessing(x) for x in headline]\n",
    "text[:5]"
   ]
  },
  {
   "cell_type": "code",
   "execution_count": 22,
   "metadata": {},
   "outputs": [
    {
     "name": "stdout",
     "output_type": "stream",
     "text": [
      "단어 집합의 크기 : 2654\n"
     ]
    }
   ],
   "source": [
    "t = Tokenizer()\n",
    "t.fit_on_texts(text)\n",
    "vocab_size = len(t.word_index) + 1\n",
    "print('단어 집합의 크기 : %d' % vocab_size)"
   ]
  },
  {
   "cell_type": "code",
   "execution_count": 24,
   "metadata": {},
   "outputs": [
    {
     "data": {
      "text/plain": [
       "[[49, 800],\n",
       " [49, 800, 1],\n",
       " [49, 800, 1, 801],\n",
       " [49, 800, 1, 801, 58],\n",
       " [115, 407],\n",
       " [115, 407, 408],\n",
       " [115, 407, 408, 2],\n",
       " [115, 407, 408, 2, 180],\n",
       " [115, 407, 408, 2, 180, 802],\n",
       " [115, 407, 408, 2, 180, 802, 803],\n",
       " [804, 2]]"
      ]
     },
     "execution_count": 24,
     "metadata": {},
     "output_type": "execute_result"
    }
   ],
   "source": [
    "sequences = []\n",
    "for line in text: \n",
    "    encoded = t.texts_to_sequences([line])[0] \n",
    "    for i in range(1, len(encoded)):\n",
    "        sequence = encoded[:i+1]\n",
    "        sequences.append(sequence)\n",
    "\n",
    "sequences[:11]"
   ]
  },
  {
   "cell_type": "code",
   "execution_count": 27,
   "metadata": {},
   "outputs": [
    {
     "name": "stdout",
     "output_type": "stream",
     "text": [
      "샘플의 최대 길이 : 16\n"
     ]
    }
   ],
   "source": [
    "max_len = max(len(s) for s in sequences)\n",
    "print('샘플의 최대 길이 :', max_len)"
   ]
  },
  {
   "cell_type": "code",
   "execution_count": 111,
   "metadata": {},
   "outputs": [
    {
     "name": "stdout",
     "output_type": "stream",
     "text": [
      "[[  0   0   0   0   0   0   0   0   0   0   0   0   0   0  49 800]\n",
      " [  0   0   0   0   0   0   0   0   0   0   0   0   0  49 800   1]\n",
      " [  0   0   0   0   0   0   0   0   0   0   0   0  49 800   1 801]]\n"
     ]
    }
   ],
   "source": [
    "sequences = pad_sequences(sequences, max_len)\n",
    "print(sequences[:3])"
   ]
  },
  {
   "cell_type": "code",
   "execution_count": 30,
   "metadata": {},
   "outputs": [],
   "source": [
    "X = sequences[:,:-1]\n",
    "y = sequences[:,-1]"
   ]
  },
  {
   "cell_type": "code",
   "execution_count": 31,
   "metadata": {},
   "outputs": [],
   "source": [
    "y = to_categorical(y, num_classes=vocab_size)"
   ]
  },
  {
   "cell_type": "code",
   "execution_count": 32,
   "metadata": {},
   "outputs": [
    {
     "data": {
      "text/plain": [
       "((5501, 15), (5501, 2654))"
      ]
     },
     "execution_count": 32,
     "metadata": {},
     "output_type": "execute_result"
    }
   ],
   "source": [
    "X.shape, y.shape"
   ]
  },
  {
   "cell_type": "code",
   "execution_count": 35,
   "metadata": {},
   "outputs": [
    {
     "name": "stdout",
     "output_type": "stream",
     "text": [
      "Model: \"sequential_1\"\n",
      "_________________________________________________________________\n",
      "Layer (type)                 Output Shape              Param #   \n",
      "=================================================================\n",
      "Embedding_Layer (Embedding)  (None, 15, 10)            26540     \n",
      "_________________________________________________________________\n",
      "LSTM_Layer (LSTM)            (None, 128)               71168     \n",
      "_________________________________________________________________\n",
      "Output_Layer (Dense)         (None, 2654)              342366    \n",
      "=================================================================\n",
      "Total params: 440,074\n",
      "Trainable params: 440,074\n",
      "Non-trainable params: 0\n",
      "_________________________________________________________________\n"
     ]
    }
   ],
   "source": [
    "model = Sequential()\n",
    "model.add(Embedding(vocab_size, 10, input_length=max_len-1, \n",
    "                    name=\"Embedding_Layer\"))\n",
    "model.add(LSTM(128, name=\"LSTM_Layer\"))\n",
    "model.add(Dense(vocab_size, activation='softmax', name=\"Output_Layer\"))\n",
    "model.summary()"
   ]
  },
  {
   "cell_type": "code",
   "execution_count": 36,
   "metadata": {},
   "outputs": [],
   "source": [
    "model.compile(loss='categorical_crossentropy', \n",
    "              optimizer='adam', metrics=['accuracy'])"
   ]
  },
  {
   "cell_type": "code",
   "execution_count": 67,
   "metadata": {},
   "outputs": [
    {
     "name": "stdout",
     "output_type": "stream",
     "text": [
      "Epoch 1/300\n",
      " - 2s - loss: 0.3791 - accuracy: 0.8911\n",
      "Epoch 2/300\n",
      " - 2s - loss: 0.3963 - accuracy: 0.8875\n",
      "Epoch 3/300\n",
      " - 2s - loss: 0.3614 - accuracy: 0.8957\n",
      "Epoch 4/300\n",
      " - 2s - loss: 0.3500 - accuracy: 0.8953\n",
      "Epoch 5/300\n",
      " - 2s - loss: 0.3467 - accuracy: 0.8957\n",
      "Epoch 6/300\n",
      " - 2s - loss: 0.3441 - accuracy: 0.8957\n",
      "Epoch 7/300\n",
      " - 2s - loss: 0.3431 - accuracy: 0.8973\n",
      "Epoch 8/300\n",
      " - 2s - loss: 0.3420 - accuracy: 0.8946\n",
      "Epoch 9/300\n",
      " - 2s - loss: 0.3411 - accuracy: 0.8940\n",
      "Epoch 10/300\n",
      " - 2s - loss: 0.3397 - accuracy: 0.8942\n",
      "Epoch 11/300\n",
      " - 2s - loss: 0.3394 - accuracy: 0.8960\n",
      "Epoch 12/300\n",
      " - 2s - loss: 0.3363 - accuracy: 0.8977\n",
      "Epoch 13/300\n",
      " - 2s - loss: 0.3375 - accuracy: 0.8955\n",
      "Epoch 14/300\n",
      " - 2s - loss: 0.3366 - accuracy: 0.8964\n",
      "Epoch 15/300\n",
      " - 2s - loss: 0.3362 - accuracy: 0.8977\n",
      "Epoch 16/300\n",
      " - 2s - loss: 0.3347 - accuracy: 0.8962\n",
      "Epoch 17/300\n",
      " - 2s - loss: 0.3345 - accuracy: 0.8967\n",
      "Epoch 18/300\n",
      " - 2s - loss: 0.3331 - accuracy: 0.8964\n",
      "Epoch 19/300\n",
      " - 2s - loss: 0.3324 - accuracy: 0.8967\n",
      "Epoch 20/300\n",
      " - 2s - loss: 0.3321 - accuracy: 0.8957\n",
      "Epoch 21/300\n",
      " - 2s - loss: 0.3301 - accuracy: 0.8966\n",
      "Epoch 22/300\n",
      " - 2s - loss: 0.3305 - accuracy: 0.8958\n",
      "Epoch 23/300\n",
      " - 2s - loss: 0.3297 - accuracy: 0.8938\n",
      "Epoch 24/300\n",
      " - 2s - loss: 0.3303 - accuracy: 0.8944\n",
      "Epoch 25/300\n",
      " - 2s - loss: 0.3288 - accuracy: 0.8960\n",
      "Epoch 26/300\n",
      " - 2s - loss: 0.3297 - accuracy: 0.8947\n",
      "Epoch 27/300\n",
      " - 2s - loss: 0.3280 - accuracy: 0.8969\n",
      "Epoch 28/300\n",
      " - 2s - loss: 0.3258 - accuracy: 0.8975\n",
      "Epoch 29/300\n",
      " - 2s - loss: 0.3253 - accuracy: 0.8960\n",
      "Epoch 30/300\n",
      " - 2s - loss: 0.3257 - accuracy: 0.8949\n",
      "Epoch 31/300\n",
      " - 2s - loss: 0.3259 - accuracy: 0.8957\n",
      "Epoch 32/300\n",
      " - 2s - loss: 0.3258 - accuracy: 0.8947\n",
      "Epoch 33/300\n",
      " - 2s - loss: 0.3251 - accuracy: 0.8947\n",
      "Epoch 34/300\n",
      " - 2s - loss: 0.3246 - accuracy: 0.8949\n",
      "Epoch 35/300\n",
      " - 2s - loss: 0.3233 - accuracy: 0.8964\n",
      "Epoch 36/300\n",
      " - 2s - loss: 0.3223 - accuracy: 0.8962\n",
      "Epoch 37/300\n",
      " - 2s - loss: 0.3219 - accuracy: 0.8967\n",
      "Epoch 38/300\n",
      " - 2s - loss: 0.3214 - accuracy: 0.8944\n",
      "Epoch 39/300\n",
      " - 2s - loss: 0.3562 - accuracy: 0.8893\n",
      "Epoch 40/300\n",
      " - 2s - loss: 0.3572 - accuracy: 0.8895\n",
      "Epoch 41/300\n",
      " - 2s - loss: 0.3410 - accuracy: 0.8920\n",
      "Epoch 42/300\n",
      " - 2s - loss: 0.3251 - accuracy: 0.8958\n",
      "Epoch 43/300\n",
      " - 2s - loss: 0.3227 - accuracy: 0.8940\n",
      "Epoch 44/300\n",
      " - 2s - loss: 0.3201 - accuracy: 0.8969\n",
      "Epoch 45/300\n",
      " - 2s - loss: 0.3181 - accuracy: 0.8953\n",
      "Epoch 46/300\n",
      " - 2s - loss: 0.3180 - accuracy: 0.8958\n",
      "Epoch 47/300\n",
      " - 2s - loss: 0.3173 - accuracy: 0.8951\n",
      "Epoch 48/300\n",
      " - 2s - loss: 0.3178 - accuracy: 0.8949\n",
      "Epoch 49/300\n",
      " - 2s - loss: 0.3176 - accuracy: 0.8946\n",
      "Epoch 50/300\n",
      " - 2s - loss: 0.3178 - accuracy: 0.8971\n",
      "Epoch 51/300\n",
      " - 2s - loss: 0.3173 - accuracy: 0.8953\n",
      "Epoch 52/300\n",
      " - 2s - loss: 0.3174 - accuracy: 0.8964\n",
      "Epoch 53/300\n",
      " - 2s - loss: 0.3159 - accuracy: 0.8966\n",
      "Epoch 54/300\n",
      " - 2s - loss: 0.3172 - accuracy: 0.8958\n",
      "Epoch 55/300\n",
      " - 2s - loss: 0.3168 - accuracy: 0.8947\n",
      "Epoch 56/300\n",
      " - 2s - loss: 0.3167 - accuracy: 0.8964\n",
      "Epoch 57/300\n",
      " - 2s - loss: 0.3164 - accuracy: 0.8946\n",
      "Epoch 58/300\n",
      " - 2s - loss: 0.3166 - accuracy: 0.8951\n",
      "Epoch 59/300\n",
      " - 2s - loss: 0.3170 - accuracy: 0.8960\n",
      "Epoch 60/300\n",
      " - 2s - loss: 0.3160 - accuracy: 0.8942\n",
      "Epoch 61/300\n",
      " - 2s - loss: 0.3161 - accuracy: 0.8949\n",
      "Epoch 62/300\n",
      " - 2s - loss: 0.3158 - accuracy: 0.8933\n",
      "Epoch 63/300\n",
      " - 2s - loss: 0.3159 - accuracy: 0.8951\n",
      "Epoch 64/300\n",
      " - 2s - loss: 0.3166 - accuracy: 0.8964\n",
      "Epoch 65/300\n",
      " - 2s - loss: 0.3157 - accuracy: 0.8960\n",
      "Epoch 66/300\n",
      " - 2s - loss: 0.3156 - accuracy: 0.8951\n",
      "Epoch 67/300\n",
      " - 2s - loss: 0.3151 - accuracy: 0.8951\n",
      "Epoch 68/300\n",
      " - 2s - loss: 0.3150 - accuracy: 0.8969\n",
      "Epoch 69/300\n",
      " - 2s - loss: 0.3141 - accuracy: 0.8951\n",
      "Epoch 70/300\n",
      " - 2s - loss: 0.3150 - accuracy: 0.8944\n",
      "Epoch 71/300\n",
      " - 2s - loss: 0.3141 - accuracy: 0.8980\n",
      "Epoch 72/300\n",
      " - 2s - loss: 0.3140 - accuracy: 0.8946\n",
      "Epoch 73/300\n",
      " - 2s - loss: 0.3135 - accuracy: 0.8958\n",
      "Epoch 74/300\n",
      " - 2s - loss: 0.3142 - accuracy: 0.8935\n",
      "Epoch 75/300\n",
      " - 2s - loss: 0.3132 - accuracy: 0.8960\n",
      "Epoch 76/300\n",
      " - 2s - loss: 0.3156 - accuracy: 0.8944\n",
      "Epoch 77/300\n",
      " - 2s - loss: 0.3540 - accuracy: 0.8857\n",
      "Epoch 78/300\n",
      " - 2s - loss: 0.3417 - accuracy: 0.8891\n",
      "Epoch 79/300\n",
      " - 2s - loss: 0.3198 - accuracy: 0.8953\n",
      "Epoch 80/300\n",
      " - 2s - loss: 0.3126 - accuracy: 0.8971\n",
      "Epoch 81/300\n",
      " - 2s - loss: 0.3129 - accuracy: 0.8967\n",
      "Epoch 82/300\n",
      " - 2s - loss: 0.3117 - accuracy: 0.8949\n",
      "Epoch 83/300\n",
      " - 2s - loss: 0.3110 - accuracy: 0.8951\n",
      "Epoch 84/300\n",
      " - 2s - loss: 0.3119 - accuracy: 0.8951\n",
      "Epoch 85/300\n",
      " - 2s - loss: 0.3120 - accuracy: 0.8971\n",
      "Epoch 86/300\n",
      " - 2s - loss: 0.3110 - accuracy: 0.8967\n",
      "Epoch 87/300\n",
      " - 2s - loss: 0.3115 - accuracy: 0.8924\n",
      "Epoch 88/300\n",
      " - 2s - loss: 0.3111 - accuracy: 0.8955\n",
      "Epoch 89/300\n",
      " - 2s - loss: 0.3110 - accuracy: 0.8935\n",
      "Epoch 90/300\n",
      " - 2s - loss: 0.3114 - accuracy: 0.8984\n",
      "Epoch 91/300\n",
      " - 2s - loss: 0.3104 - accuracy: 0.8949\n",
      "Epoch 92/300\n",
      " - 2s - loss: 0.3111 - accuracy: 0.8969\n",
      "Epoch 93/300\n",
      " - 2s - loss: 0.3119 - accuracy: 0.8944\n",
      "Epoch 94/300\n",
      " - 2s - loss: 0.3112 - accuracy: 0.8946\n",
      "Epoch 95/300\n",
      " - 2s - loss: 0.3119 - accuracy: 0.8946\n",
      "Epoch 96/300\n",
      " - 2s - loss: 0.3097 - accuracy: 0.8958\n",
      "Epoch 97/300\n",
      " - 2s - loss: 0.3110 - accuracy: 0.8944\n",
      "Epoch 98/300\n",
      " - 2s - loss: 0.3114 - accuracy: 0.8947\n",
      "Epoch 99/300\n",
      " - 2s - loss: 0.3112 - accuracy: 0.8951\n",
      "Epoch 100/300\n",
      " - 2s - loss: 0.3114 - accuracy: 0.8944\n",
      "Epoch 101/300\n",
      " - 2s - loss: 0.3104 - accuracy: 0.8958\n",
      "Epoch 102/300\n",
      " - 2s - loss: 0.3116 - accuracy: 0.8951\n",
      "Epoch 103/300\n",
      " - 2s - loss: 0.3107 - accuracy: 0.8966\n",
      "Epoch 104/300\n",
      " - 2s - loss: 0.3104 - accuracy: 0.8966\n",
      "Epoch 105/300\n",
      " - 2s - loss: 0.3102 - accuracy: 0.8960\n",
      "Epoch 106/300\n",
      " - 2s - loss: 0.3103 - accuracy: 0.8951\n",
      "Epoch 107/300\n",
      " - 2s - loss: 0.3099 - accuracy: 0.8958\n",
      "Epoch 108/300\n",
      " - 2s - loss: 0.3140 - accuracy: 0.8962\n",
      "Epoch 109/300\n",
      " - 2s - loss: 0.3365 - accuracy: 0.8913\n",
      "Epoch 110/300\n",
      " - 2s - loss: 0.3309 - accuracy: 0.8906\n",
      "Epoch 111/300\n",
      " - 2s - loss: 0.3222 - accuracy: 0.8929\n",
      "Epoch 112/300\n",
      " - 2s - loss: 0.3112 - accuracy: 0.8957\n",
      "Epoch 113/300\n",
      " - 2s - loss: 0.3095 - accuracy: 0.8962\n",
      "Epoch 114/300\n",
      " - 2s - loss: 0.3100 - accuracy: 0.8960\n",
      "Epoch 115/300\n",
      " - 2s - loss: 0.3085 - accuracy: 0.8967\n",
      "Epoch 116/300\n",
      " - 2s - loss: 0.3091 - accuracy: 0.8962\n",
      "Epoch 117/300\n",
      " - 2s - loss: 0.3082 - accuracy: 0.8955\n",
      "Epoch 118/300\n",
      " - 2s - loss: 0.3089 - accuracy: 0.8949\n",
      "Epoch 119/300\n",
      " - 2s - loss: 0.3091 - accuracy: 0.8949\n",
      "Epoch 120/300\n",
      " - 2s - loss: 0.3082 - accuracy: 0.8940\n",
      "Epoch 121/300\n",
      " - 2s - loss: 0.3088 - accuracy: 0.8947\n",
      "Epoch 122/300\n",
      " - 2s - loss: 0.3087 - accuracy: 0.8967\n",
      "Epoch 123/300\n",
      " - 2s - loss: 0.3080 - accuracy: 0.8980\n",
      "Epoch 124/300\n",
      " - 2s - loss: 0.3085 - accuracy: 0.8962\n",
      "Epoch 125/300\n",
      " - 2s - loss: 0.3092 - accuracy: 0.8940\n",
      "Epoch 126/300\n",
      " - 2s - loss: 0.3087 - accuracy: 0.8953\n",
      "Epoch 127/300\n",
      " - 2s - loss: 0.3089 - accuracy: 0.8953\n",
      "Epoch 128/300\n",
      " - 2s - loss: 0.3085 - accuracy: 0.8951\n",
      "Epoch 129/300\n",
      " - 2s - loss: 0.3088 - accuracy: 0.8946\n",
      "Epoch 130/300\n",
      " - 2s - loss: 0.3091 - accuracy: 0.8964\n",
      "Epoch 131/300\n",
      " - 2s - loss: 0.3073 - accuracy: 0.8969\n",
      "Epoch 132/300\n",
      " - 2s - loss: 0.3085 - accuracy: 0.8958\n",
      "Epoch 133/300\n",
      " - 2s - loss: 0.3078 - accuracy: 0.8969\n",
      "Epoch 134/300\n",
      " - 2s - loss: 0.3094 - accuracy: 0.8969\n",
      "Epoch 135/300\n",
      " - 2s - loss: 0.3087 - accuracy: 0.8955\n",
      "Epoch 136/300\n",
      " - 2s - loss: 0.3083 - accuracy: 0.8958\n",
      "Epoch 137/300\n",
      " - 2s - loss: 0.3085 - accuracy: 0.8942\n",
      "Epoch 138/300\n",
      " - 2s - loss: 0.3092 - accuracy: 0.8947\n",
      "Epoch 139/300\n",
      " - 2s - loss: 0.3077 - accuracy: 0.8960\n",
      "Epoch 140/300\n",
      " - 2s - loss: 0.3076 - accuracy: 0.8978\n",
      "Epoch 141/300\n",
      " - 2s - loss: 0.3087 - accuracy: 0.8962\n",
      "Epoch 142/300\n",
      " - 2s - loss: 0.3082 - accuracy: 0.8962\n",
      "Epoch 143/300\n",
      " - 2s - loss: 0.3372 - accuracy: 0.8884\n",
      "Epoch 144/300\n",
      " - 2s - loss: 0.3515 - accuracy: 0.8853\n",
      "Epoch 145/300\n",
      " - 2s - loss: 0.3172 - accuracy: 0.8953\n",
      "Epoch 146/300\n",
      " - 2s - loss: 0.3097 - accuracy: 0.8971\n",
      "Epoch 147/300\n",
      " - 2s - loss: 0.3075 - accuracy: 0.8971\n",
      "Epoch 148/300\n",
      " - 2s - loss: 0.3077 - accuracy: 0.8966\n",
      "Epoch 149/300\n",
      " - 2s - loss: 0.3070 - accuracy: 0.8960\n",
      "Epoch 150/300\n",
      " - 2s - loss: 0.3060 - accuracy: 0.8949\n",
      "Epoch 151/300\n",
      " - 2s - loss: 0.3068 - accuracy: 0.8953\n",
      "Epoch 152/300\n",
      " - 2s - loss: 0.3067 - accuracy: 0.8953\n",
      "Epoch 153/300\n",
      " - 2s - loss: 0.3069 - accuracy: 0.8973\n",
      "Epoch 154/300\n",
      " - 2s - loss: 0.3058 - accuracy: 0.8958\n"
     ]
    },
    {
     "name": "stdout",
     "output_type": "stream",
     "text": [
      "Epoch 155/300\n",
      " - 2s - loss: 0.3067 - accuracy: 0.8977\n",
      "Epoch 156/300\n",
      " - 2s - loss: 0.3063 - accuracy: 0.8966\n",
      "Epoch 157/300\n",
      " - 2s - loss: 0.3082 - accuracy: 0.8944\n",
      "Epoch 158/300\n",
      " - 2s - loss: 0.3067 - accuracy: 0.8964\n",
      "Epoch 159/300\n",
      " - 2s - loss: 0.3067 - accuracy: 0.8966\n",
      "Epoch 160/300\n",
      " - 2s - loss: 0.3068 - accuracy: 0.8969\n",
      "Epoch 161/300\n",
      " - 2s - loss: 0.3064 - accuracy: 0.8960\n",
      "Epoch 162/300\n",
      " - 2s - loss: 0.3063 - accuracy: 0.8957\n",
      "Epoch 163/300\n",
      " - 2s - loss: 0.3075 - accuracy: 0.8951\n",
      "Epoch 164/300\n",
      " - 2s - loss: 0.3063 - accuracy: 0.8973\n",
      "Epoch 165/300\n",
      " - 2s - loss: 0.3070 - accuracy: 0.8947\n",
      "Epoch 166/300\n",
      " - 2s - loss: 0.3070 - accuracy: 0.8957\n",
      "Epoch 167/300\n",
      " - 2s - loss: 0.3078 - accuracy: 0.8947\n",
      "Epoch 168/300\n",
      " - 2s - loss: 0.3067 - accuracy: 0.8946\n",
      "Epoch 169/300\n",
      " - 2s - loss: 0.3072 - accuracy: 0.8940\n",
      "Epoch 170/300\n",
      " - 2s - loss: 0.3073 - accuracy: 0.8975\n",
      "Epoch 171/300\n",
      " - 2s - loss: 0.3075 - accuracy: 0.8946\n",
      "Epoch 172/300\n",
      " - 2s - loss: 0.3062 - accuracy: 0.8984\n",
      "Epoch 173/300\n",
      " - 2s - loss: 0.3074 - accuracy: 0.8944\n",
      "Epoch 174/300\n",
      " - 2s - loss: 0.3069 - accuracy: 0.8944\n",
      "Epoch 175/300\n",
      " - 2s - loss: 0.3071 - accuracy: 0.8951\n",
      "Epoch 176/300\n",
      " - 2s - loss: 0.3059 - accuracy: 0.8957\n",
      "Epoch 177/300\n",
      " - 2s - loss: 0.3059 - accuracy: 0.8955\n",
      "Epoch 178/300\n",
      " - 2s - loss: 0.3061 - accuracy: 0.8960\n",
      "Epoch 179/300\n",
      " - 2s - loss: 0.3069 - accuracy: 0.8953\n",
      "Epoch 180/300\n",
      " - 2s - loss: 0.3070 - accuracy: 0.8947\n",
      "Epoch 181/300\n",
      " - 2s - loss: 0.3059 - accuracy: 0.8957\n",
      "Epoch 182/300\n",
      " - 2s - loss: 0.3066 - accuracy: 0.8955\n",
      "Epoch 183/300\n",
      " - 2s - loss: 0.3070 - accuracy: 0.8946\n",
      "Epoch 184/300\n",
      " - 2s - loss: 0.3061 - accuracy: 0.8966\n",
      "Epoch 185/300\n",
      " - 2s - loss: 0.3067 - accuracy: 0.8946\n",
      "Epoch 186/300\n",
      " - 2s - loss: 0.3060 - accuracy: 0.8969\n",
      "Epoch 187/300\n",
      " - 2s - loss: 0.3063 - accuracy: 0.8953\n",
      "Epoch 188/300\n",
      " - 2s - loss: 0.3057 - accuracy: 0.8966\n",
      "Epoch 189/300\n",
      " - 2s - loss: 0.3070 - accuracy: 0.8947\n",
      "Epoch 190/300\n",
      " - 2s - loss: 0.3062 - accuracy: 0.8951\n",
      "Epoch 191/300\n",
      " - 2s - loss: 0.3301 - accuracy: 0.8898\n",
      "Epoch 192/300\n",
      " - 2s - loss: 0.3558 - accuracy: 0.8837\n",
      "Epoch 193/300\n",
      " - 2s - loss: 0.3139 - accuracy: 0.8931\n",
      "Epoch 194/300\n",
      " - 2s - loss: 0.3070 - accuracy: 0.8977\n",
      "Epoch 195/300\n",
      " - 2s - loss: 0.3054 - accuracy: 0.8966\n",
      "Epoch 196/300\n",
      " - 2s - loss: 0.3051 - accuracy: 0.8962\n",
      "Epoch 197/300\n",
      " - 2s - loss: 0.3055 - accuracy: 0.8946\n",
      "Epoch 198/300\n",
      " - 2s - loss: 0.3054 - accuracy: 0.8957\n",
      "Epoch 199/300\n",
      " - 2s - loss: 0.3051 - accuracy: 0.8977\n",
      "Epoch 200/300\n",
      " - 2s - loss: 0.3042 - accuracy: 0.8962\n",
      "Epoch 201/300\n",
      " - 2s - loss: 0.3051 - accuracy: 0.8971\n",
      "Epoch 202/300\n",
      " - 2s - loss: 0.3052 - accuracy: 0.8942\n",
      "Epoch 203/300\n",
      " - 2s - loss: 0.3052 - accuracy: 0.8977\n",
      "Epoch 204/300\n",
      " - 2s - loss: 0.3054 - accuracy: 0.8938\n",
      "Epoch 205/300\n",
      " - 2s - loss: 0.3050 - accuracy: 0.8969\n",
      "Epoch 206/300\n",
      " - 2s - loss: 0.3051 - accuracy: 0.8937\n",
      "Epoch 207/300\n",
      " - 2s - loss: 0.3049 - accuracy: 0.8944\n",
      "Epoch 208/300\n",
      " - 2s - loss: 0.3055 - accuracy: 0.8949\n",
      "Epoch 209/300\n",
      " - 2s - loss: 0.3052 - accuracy: 0.8962\n",
      "Epoch 210/300\n",
      " - 2s - loss: 0.3049 - accuracy: 0.8971\n",
      "Epoch 211/300\n",
      " - 2s - loss: 0.3058 - accuracy: 0.8967\n",
      "Epoch 212/300\n",
      " - 2s - loss: 0.3053 - accuracy: 0.8942\n",
      "Epoch 213/300\n",
      " - 2s - loss: 0.3051 - accuracy: 0.8960\n",
      "Epoch 214/300\n",
      " - 2s - loss: 0.3054 - accuracy: 0.8982\n",
      "Epoch 215/300\n",
      " - 2s - loss: 0.3057 - accuracy: 0.8953\n",
      "Epoch 216/300\n",
      " - 2s - loss: 0.3049 - accuracy: 0.8975\n",
      "Epoch 217/300\n",
      " - 2s - loss: 0.3052 - accuracy: 0.8938\n",
      "Epoch 218/300\n",
      " - 2s - loss: 0.3055 - accuracy: 0.8940\n",
      "Epoch 219/300\n",
      " - 2s - loss: 0.3052 - accuracy: 0.8966\n",
      "Epoch 220/300\n",
      " - 2s - loss: 0.3057 - accuracy: 0.8967\n",
      "Epoch 221/300\n",
      " - 2s - loss: 0.3054 - accuracy: 0.8947\n",
      "Epoch 222/300\n",
      " - 2s - loss: 0.3052 - accuracy: 0.8958\n",
      "Epoch 223/300\n",
      " - 2s - loss: 0.3051 - accuracy: 0.8951\n",
      "Epoch 224/300\n",
      " - 2s - loss: 0.3061 - accuracy: 0.8953\n",
      "Epoch 225/300\n",
      " - 2s - loss: 0.3047 - accuracy: 0.8977\n",
      "Epoch 226/300\n",
      " - 2s - loss: 0.3055 - accuracy: 0.8969\n",
      "Epoch 227/300\n",
      " - 2s - loss: 0.3052 - accuracy: 0.8955\n",
      "Epoch 228/300\n",
      " - 2s - loss: 0.3051 - accuracy: 0.8958\n",
      "Epoch 229/300\n",
      " - 2s - loss: 0.3049 - accuracy: 0.8947\n",
      "Epoch 230/300\n",
      " - 2s - loss: 0.3042 - accuracy: 0.8958\n",
      "Epoch 231/300\n",
      " - 2s - loss: 0.3057 - accuracy: 0.8969\n",
      "Epoch 232/300\n",
      " - 2s - loss: 0.3053 - accuracy: 0.8964\n",
      "Epoch 233/300\n",
      " - 2s - loss: 0.3050 - accuracy: 0.8946\n",
      "Epoch 234/300\n",
      " - 2s - loss: 0.3051 - accuracy: 0.8946\n",
      "Epoch 235/300\n",
      " - 2s - loss: 0.3047 - accuracy: 0.8978\n",
      "Epoch 236/300\n",
      " - 2s - loss: 0.3113 - accuracy: 0.8940\n",
      "Epoch 237/300\n",
      " - 2s - loss: 0.3471 - accuracy: 0.8853\n",
      "Epoch 238/300\n",
      " - 2s - loss: 0.3182 - accuracy: 0.8933\n",
      "Epoch 239/300\n",
      " - 2s - loss: 0.3061 - accuracy: 0.8949\n",
      "Epoch 240/300\n",
      " - 2s - loss: 0.3044 - accuracy: 0.8973\n",
      "Epoch 241/300\n",
      " - 2s - loss: 0.3038 - accuracy: 0.8969\n",
      "Epoch 242/300\n",
      " - 2s - loss: 0.3045 - accuracy: 0.8964\n",
      "Epoch 243/300\n",
      " - 2s - loss: 0.3039 - accuracy: 0.8962\n",
      "Epoch 244/300\n",
      " - 2s - loss: 0.3048 - accuracy: 0.8958\n",
      "Epoch 245/300\n",
      " - 2s - loss: 0.3037 - accuracy: 0.8957\n",
      "Epoch 246/300\n",
      " - 2s - loss: 0.3044 - accuracy: 0.8958\n",
      "Epoch 247/300\n",
      " - 2s - loss: 0.3045 - accuracy: 0.8967\n",
      "Epoch 248/300\n",
      " - 2s - loss: 0.3046 - accuracy: 0.8957\n",
      "Epoch 249/300\n",
      " - 2s - loss: 0.3049 - accuracy: 0.8955\n",
      "Epoch 250/300\n",
      " - 2s - loss: 0.3036 - accuracy: 0.8964\n",
      "Epoch 251/300\n",
      " - 2s - loss: 0.3042 - accuracy: 0.8953\n",
      "Epoch 252/300\n",
      " - 2s - loss: 0.3044 - accuracy: 0.8957\n",
      "Epoch 253/300\n",
      " - 2s - loss: 0.3036 - accuracy: 0.8951\n",
      "Epoch 254/300\n",
      " - 2s - loss: 0.3041 - accuracy: 0.8955\n",
      "Epoch 255/300\n",
      " - 2s - loss: 0.3044 - accuracy: 0.8969\n",
      "Epoch 256/300\n",
      " - 2s - loss: 0.3039 - accuracy: 0.8957\n",
      "Epoch 257/300\n",
      " - 2s - loss: 0.3047 - accuracy: 0.8958\n",
      "Epoch 258/300\n",
      " - 2s - loss: 0.3056 - accuracy: 0.8957\n",
      "Epoch 259/300\n",
      " - 2s - loss: 0.3047 - accuracy: 0.8953\n",
      "Epoch 260/300\n",
      " - 2s - loss: 0.3047 - accuracy: 0.8940\n",
      "Epoch 261/300\n",
      " - 2s - loss: 0.3044 - accuracy: 0.8967\n",
      "Epoch 262/300\n",
      " - 2s - loss: 0.3042 - accuracy: 0.8967\n",
      "Epoch 263/300\n",
      " - 2s - loss: 0.3043 - accuracy: 0.8958\n",
      "Epoch 264/300\n",
      " - 2s - loss: 0.3040 - accuracy: 0.8969\n",
      "Epoch 265/300\n",
      " - 2s - loss: 0.3044 - accuracy: 0.8944\n",
      "Epoch 266/300\n",
      " - 2s - loss: 0.3047 - accuracy: 0.8966\n",
      "Epoch 267/300\n",
      " - 2s - loss: 0.3046 - accuracy: 0.8947\n",
      "Epoch 268/300\n",
      " - 2s - loss: 0.3041 - accuracy: 0.8964\n",
      "Epoch 269/300\n",
      " - 2s - loss: 0.3040 - accuracy: 0.8967\n",
      "Epoch 270/300\n",
      " - 2s - loss: 0.3046 - accuracy: 0.8955\n",
      "Epoch 271/300\n",
      " - 2s - loss: 0.3044 - accuracy: 0.8938\n",
      "Epoch 272/300\n",
      " - 2s - loss: 0.3037 - accuracy: 0.8957\n",
      "Epoch 273/300\n",
      " - 2s - loss: 0.3047 - accuracy: 0.8947\n",
      "Epoch 274/300\n",
      " - 2s - loss: 0.3047 - accuracy: 0.8946\n",
      "Epoch 275/300\n",
      " - 2s - loss: 0.3050 - accuracy: 0.8949\n",
      "Epoch 276/300\n",
      " - 2s - loss: 0.3039 - accuracy: 0.8966\n",
      "Epoch 277/300\n",
      " - 2s - loss: 0.3037 - accuracy: 0.8953\n",
      "Epoch 278/300\n",
      " - 2s - loss: 0.3032 - accuracy: 0.8973\n",
      "Epoch 279/300\n",
      " - 2s - loss: 0.3040 - accuracy: 0.8955\n",
      "Epoch 280/300\n",
      " - 2s - loss: 0.3034 - accuracy: 0.8951\n",
      "Epoch 281/300\n",
      " - 2s - loss: 0.3038 - accuracy: 0.8949\n",
      "Epoch 282/300\n",
      " - 2s - loss: 0.3045 - accuracy: 0.8964\n",
      "Epoch 283/300\n",
      " - 2s - loss: 0.3040 - accuracy: 0.8938\n",
      "Epoch 284/300\n",
      " - 2s - loss: 0.3037 - accuracy: 0.8971\n",
      "Epoch 285/300\n",
      " - 2s - loss: 0.3034 - accuracy: 0.8949\n",
      "Epoch 286/300\n",
      " - 2s - loss: 0.3040 - accuracy: 0.8971\n",
      "Epoch 287/300\n",
      " - 2s - loss: 0.3039 - accuracy: 0.8958\n",
      "Epoch 288/300\n",
      " - 2s - loss: 0.3037 - accuracy: 0.8975\n",
      "Epoch 289/300\n",
      " - 2s - loss: 0.3040 - accuracy: 0.8947\n",
      "Epoch 290/300\n",
      " - 2s - loss: 0.3036 - accuracy: 0.8951\n",
      "Epoch 291/300\n",
      " - 2s - loss: 0.3034 - accuracy: 0.8946\n",
      "Epoch 292/300\n",
      " - 2s - loss: 0.3036 - accuracy: 0.8944\n",
      "Epoch 293/300\n",
      " - 2s - loss: 0.3040 - accuracy: 0.8944\n",
      "Epoch 294/300\n",
      " - 2s - loss: 0.3033 - accuracy: 0.8969\n",
      "Epoch 295/300\n",
      " - 2s - loss: 0.3028 - accuracy: 0.8971\n",
      "Epoch 296/300\n",
      " - 2s - loss: 0.3512 - accuracy: 0.8831\n",
      "Epoch 297/300\n",
      " - 2s - loss: 0.3360 - accuracy: 0.8871\n",
      "Epoch 298/300\n",
      " - 2s - loss: 0.3105 - accuracy: 0.8931\n",
      "Epoch 299/300\n",
      " - 2s - loss: 0.3027 - accuracy: 0.8969\n",
      "Epoch 300/300\n",
      " - 2s - loss: 0.3031 - accuracy: 0.8964\n"
     ]
    }
   ],
   "source": [
    "history = model.fit(X, y, epochs=300, verbose=2)"
   ]
  },
  {
   "cell_type": "code",
   "execution_count": 108,
   "metadata": {},
   "outputs": [],
   "source": [
    "def sentence_generation(model, t, current_word, n):\n",
    "    init_word = current_word \n",
    "    sentence = ''\n",
    "    for _ in range(n):\n",
    "        encoded = t.texts_to_sequences([current_word])[0]\n",
    "        encoded = pad_sequences([encoded], max_len-1) \n",
    "        result = model.predict_classes(encoded, verbose=0)\n",
    "         \n",
    "        for word, index in t.word_index.items(): \n",
    "            if index == result: \n",
    "                break \n",
    "        current_word = current_word + ' '  + word\n",
    "        sentence = sentence + ' ' + word\n",
    "\n",
    "    sentence = init_word + sentence\n",
    "    return sentence"
   ]
  },
  {
   "cell_type": "code",
   "execution_count": 109,
   "metadata": {},
   "outputs": [
    {
     "data": {
      "text/plain": [
       "'6 Million Riders a Day, 1930s Technology'"
      ]
     },
     "execution_count": 109,
     "metadata": {},
     "output_type": "execute_result"
    }
   ],
   "source": [
    "df['headline'][1]"
   ]
  },
  {
   "cell_type": "code",
   "execution_count": 113,
   "metadata": {
    "scrolled": true
   },
   "outputs": [
    {
     "name": "stdout",
     "output_type": "stream",
     "text": [
      "6 Million riders a day 1930s technology\n"
     ]
    }
   ],
   "source": [
    "print(sentence_generation(model, t, '6 Million', 5))"
   ]
  },
  {
   "cell_type": "code",
   "execution_count": 117,
   "metadata": {},
   "outputs": [
    {
     "data": {
      "text/plain": [
       "'How Marching for Science Risks Politicizing It'"
      ]
     },
     "execution_count": 117,
     "metadata": {},
     "output_type": "execute_result"
    }
   ],
   "source": [
    "df['headline'][50]"
   ]
  },
  {
   "cell_type": "code",
   "execution_count": 119,
   "metadata": {
    "scrolled": true
   },
   "outputs": [
    {
     "name": "stdout",
     "output_type": "stream",
     "text": [
      "How Marching for science risks politicizing it\n"
     ]
    }
   ],
   "source": [
    "print(sentence_generation(model, t, 'How Marching', 5))"
   ]
  },
  {
   "cell_type": "code",
   "execution_count": 115,
   "metadata": {},
   "outputs": [
    {
     "data": {
      "text/plain": [
       "0                            My Beijing: The Sacred City\n",
       "1               6 Million Riders a Day, 1930s Technology\n",
       "2                      Seeking a Cross-Border Conference\n",
       "3      Questions for: ‘Despite the “Yuck Factor,” Lee...\n",
       "4                                   Who Is a ‘Criminal’?\n",
       "                             ...                        \n",
       "991    Yes, You Can Write More Than One Letter in a S...\n",
       "992               Trump’s Act  Of Gratuitous Destruction\n",
       "993                           Petty Crime, Daunting Bail\n",
       "994                                              Unknown\n",
       "995    Bucking Trump, These Cities, States and Compan...\n",
       "Name: headline, Length: 996, dtype: object"
      ]
     },
     "execution_count": 115,
     "metadata": {},
     "output_type": "execute_result"
    }
   ],
   "source": [
    "df['headline']"
   ]
  },
  {
   "cell_type": "code",
   "execution_count": null,
   "metadata": {},
   "outputs": [],
   "source": []
  }
 ],
 "metadata": {
  "kernelspec": {
   "display_name": "Python 3",
   "language": "python",
   "name": "python3"
  },
  "language_info": {
   "codemirror_mode": {
    "name": "ipython",
    "version": 3
   },
   "file_extension": ".py",
   "mimetype": "text/x-python",
   "name": "python",
   "nbconvert_exporter": "python",
   "pygments_lexer": "ipython3",
   "version": "3.7.7"
  }
 },
 "nbformat": 4,
 "nbformat_minor": 4
}
