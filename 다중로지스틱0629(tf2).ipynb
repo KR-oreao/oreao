{
 "cells": [
  {
   "cell_type": "markdown",
   "metadata": {},
   "source": [
    "# 다중 로지스틱 회귀"
   ]
  },
  {
   "cell_type": "markdown",
   "metadata": {},
   "source": [
    "#- 변수 2개: 학습 시간, 과외 횟수\n",
    "\n",
    "| 합격여부 (Y) | 0 | 0 | 0 | 1 |  1 |  1 |  1 |\n",
    "|:---:|---:|---:|---:|---:|---:|---:|---:|\n",
    "| 학습시간 (X1) | 2 | 4 | 6 | 8 | 10 | 12 | 14 |\n",
    "| 과외횟수 (X2) | 3 | 3 | 4 | 6 |  7 |  8 |  9 |"
   ]
  },
  {
   "cell_type": "code",
   "execution_count": 15,
   "metadata": {},
   "outputs": [],
   "source": [
    "# 만드는법 ↑ \n",
    "#합격여부 (Y) | 0 | 0 | 0 | 1 | 1 | 1 | 1\n",
    "#---- | ---- | ---- | ---- | ---- | ---- | ---- | ----\n",
    "#학습시간 (X1) | 2 | 4 | 6 | 8 | 10 | 12 | 14\n",
    "#과외횟수 (X2) | 3 | 3 | 4 | 6 | 7  | 8  | 9\n",
    "\n",
    "# 이런식으로 "
   ]
  },
  {
   "cell_type": "code",
   "execution_count": 16,
   "metadata": {},
   "outputs": [],
   "source": [
    "import numpy as np\n",
    "import tensorflow.compat.v1 as tf\n",
    "tf.disable_v2_behavior()"
   ]
  },
  {
   "cell_type": "code",
   "execution_count": 17,
   "metadata": {},
   "outputs": [],
   "source": [
    "# 실행할 때마다 같은 결과를 출력하기 위한 seed 값 설정\n",
    "seed = 0\n",
    "np.random.seed(seed)\n",
    "tf.set_random_seed(seed)"
   ]
  },
  {
   "cell_type": "code",
   "execution_count": 18,
   "metadata": {},
   "outputs": [],
   "source": [
    "x_data = np.array([[2, 3],[4, 3],[6, 4],[8, 6],[10, 7],[12, 8],[14, 9]]) \n",
    "y_data = np.array([0, 0, 0, 1, 1, 1, 1]).reshape(7, 1)"
   ]
  },
  {
   "cell_type": "code",
   "execution_count": 19,
   "metadata": {},
   "outputs": [
    {
     "name": "stdout",
     "output_type": "stream",
     "text": [
      "(7, 2) (7, 1)\n"
     ]
    }
   ],
   "source": [
    "print(x_data.shape, y_data.shape)"
   ]
  },
  {
   "cell_type": "code",
   "execution_count": 20,
   "metadata": {},
   "outputs": [],
   "source": [
    "X = tf.placeholder(tf.float64, shape=[None, 2])\n",
    "Y = tf.placeholder(tf.float64, shape=[None, 1])"
   ]
  },
  {
   "cell_type": "code",
   "execution_count": 21,
   "metadata": {},
   "outputs": [],
   "source": [
    "a = tf.Variable(tf.random_uniform([2,1], dtype=tf.float64)) \n",
    "#랜덤값을 주라는 의미\n",
    "b = tf.Variable(tf.random_uniform([1], dtype=tf.float64))"
   ]
  },
  {
   "cell_type": "code",
   "execution_count": 24,
   "metadata": {},
   "outputs": [],
   "source": [
    "yhat = tf.sigmoid(tf.matmul(X, a) + b)"
   ]
  },
  {
   "cell_type": "code",
   "execution_count": 25,
   "metadata": {},
   "outputs": [],
   "source": [
    "loss = -tf.reduce_mean(Y * tf.log(y) + (1 - Y) * tf.log(1 - y))\n",
    "#오차를 구하는 함수\n",
    "#대문자 X.Y는 실제값이 들어감 \n",
    "#y는 yhat가 들어감"
   ]
  },
  {
   "cell_type": "code",
   "execution_count": 26,
   "metadata": {},
   "outputs": [],
   "source": [
    "# 학습률 값\n",
    "learning_rate=0.1"
   ]
  },
  {
   "cell_type": "code",
   "execution_count": 28,
   "metadata": {},
   "outputs": [],
   "source": [
    "# 오차를 최소로 하는 값 찾기\n",
    "gradient_decent = tf.train.GradientDescentOptimizer(learning_rate).minimize(loss)"
   ]
  },
  {
   "cell_type": "code",
   "execution_count": 29,
   "metadata": {},
   "outputs": [],
   "source": [
    "predicted = tf.cast(yhat > 0.5, dtype=tf.float64)\n",
    "# yhat이 0.5보다 크면 실수값으로 바귄다느 소리이다~\n",
    "accuracy = tf.reduce_mean(tf.cast(tf.equal(predicted, Y), dtype=tf.float64))\n",
    "\n"
   ]
  },
  {
   "cell_type": "code",
   "execution_count": 39,
   "metadata": {},
   "outputs": [
    {
     "name": "stdout",
     "output_type": "stream",
     "text": [
      "step=300, a1=0.8647, a2=-0.6409, b=-2.3347, loss=0.2730\n",
      "step=600, a1=0.8517, a2=-0.3485, b=-3.8189, loss=0.1955\n",
      "step=900, a1=0.7556, a2=-0.0102, b=-4.8951, loss=0.1524\n",
      "step=1200, a1=0.6478, a2=0.3038, b=-5.7460, loss=0.1245\n",
      "step=1500, a1=0.5459, a2=0.5826, b=-6.4512, loss=0.1049\n",
      "step=1800, a1=0.4541, a2=0.8278, b=-7.0536, loss=0.0905\n",
      "step=2100, a1=0.3728, a2=1.0439, b=-7.5796, loss=0.0795\n",
      "step=2400, a1=0.3011, a2=1.2354, b=-8.0466, loss=0.0708\n",
      "step=2700, a1=0.2377, a2=1.4062, b=-8.4664, loss=0.0638\n",
      "step=3000, a1=0.1814, a2=1.5596, b=-8.8478, loss=0.0581\n",
      "step=3300, a1=0.1312, a2=1.6984, b=-9.1973, loss=0.0533\n",
      "step=3600, a1=0.0860, a2=1.8249, b=-9.5198, loss=0.0492\n",
      "step=3900, a1=0.0452, a2=1.9408, b=-9.8192, loss=0.0457\n",
      "step=4200, a1=0.0081, a2=2.0476, b=-10.0985, loss=0.0427\n",
      "step=4500, a1=-0.0258, a2=2.1466, b=-10.3604, loss=0.0400\n",
      "step=4800, a1=-0.0569, a2=2.2387, b=-10.6068, loss=0.0377\n",
      "step=5100, a1=-0.0857, a2=2.3249, b=-10.8395, loss=0.0356\n",
      "step=5400, a1=-0.1124, a2=2.4057, b=-11.0599, loss=0.0338\n",
      "step=5700, a1=-0.1372, a2=2.4818, b=-11.2693, loss=0.0321\n",
      "step=6000, a1=-0.1605, a2=2.5537, b=-11.4687, loss=0.0306\n",
      "step=6300, a1=-0.1823, a2=2.6219, b=-11.6590, loss=0.0292\n",
      "step=6600, a1=-0.2028, a2=2.6866, b=-11.8410, loss=0.0279\n",
      "step=6900, a1=-0.2222, a2=2.7482, b=-12.0155, loss=0.0268\n",
      "step=7200, a1=-0.2406, a2=2.8070, b=-12.1829, loss=0.0257\n",
      "step=7500, a1=-0.2580, a2=2.8633, b=-12.3439, loss=0.0247\n",
      "step=7800, a1=-0.2746, a2=2.9172, b=-12.4989, loss=0.0238\n",
      "step=8100, a1=-0.2904, a2=2.9689, b=-12.6484, loss=0.0230\n",
      "step=8400, a1=-0.3055, a2=3.0186, b=-12.7927, loss=0.0222\n",
      "step=8700, a1=-0.3200, a2=3.0665, b=-12.9322, loss=0.0215\n",
      "step=9000, a1=-0.3339, a2=3.1127, b=-13.0672, loss=0.0208\n",
      "step=9300, a1=-0.3472, a2=3.1572, b=-13.1980, loss=0.0201\n",
      "step=9600, a1=-0.3600, a2=3.2003, b=-13.3248, loss=0.0195\n",
      "step=9900, a1=-0.3723, a2=3.2419, b=-13.4479, loss=0.0190\n",
      "공부한 시간: 7, 과외 수업 횟수: 6\n",
      "합격 가능성:  96.80 %\n"
     ]
    }
   ],
   "source": [
    "# 학습\n",
    "with tf.Session() as sess:\n",
    "    sess.run(tf.global_variables_initializer())\n",
    "\n",
    "    for i in range(10000):\n",
    "        a_, b_, loss_, _ = sess.run([a, b, loss, gradient_decent], feed_dict={X: x_data, Y: y_data})\n",
    "        if (i + 1) % 300 == 0:\n",
    "            print(\"step=%d, a1=%.4f, a2=%.4f, b=%.4f, loss=%.4f\" % \n",
    "                  (i + 1, a_[0], a_[1], b_, loss_))\n",
    "\n",
    "# 어떻게 활용하는가\n",
    "    new_x = np.array([7, 6.]).reshape(1, 2)  # [7, 6]은 각각 공부한 시간과 과외 수업 횟수\n",
    "    new_y = sess.run(y, feed_dict={X: new_x})\n",
    "\n",
    "    print(\"공부한 시간: %d, 과외 수업 횟수: %d\" % (new_x[:,0], new_x[:,1]))\n",
    "    print(\"합격 가능성: %6.2f %%\" % (new_y*100))\n",
    "\n",
    "#이 코드는 한꺼번에 써야한다"
   ]
  },
  {
   "cell_type": "markdown",
   "metadata": {},
   "source": [
    "### 계산으로 확인"
   ]
  },
  {
   "cell_type": "code",
   "execution_count": 40,
   "metadata": {},
   "outputs": [
    {
     "data": {
      "text/plain": [
       "(1, 2)"
      ]
     },
     "execution_count": 40,
     "metadata": {},
     "output_type": "execute_result"
    }
   ],
   "source": [
    "m1 = np.array([7, 6.]).reshape(1, 2)\n",
    "m1.shape"
   ]
  },
  {
   "cell_type": "code",
   "execution_count": 43,
   "metadata": {},
   "outputs": [
    {
     "data": {
      "text/plain": [
       "(2, 1)"
      ]
     },
     "execution_count": 43,
     "metadata": {},
     "output_type": "execute_result"
    }
   ],
   "source": [
    "m2 = np.array([0.1779, 1.5675]).reshape(2, 1)\n",
    "m2.shape"
   ]
  },
  {
   "cell_type": "code",
   "execution_count": 44,
   "metadata": {},
   "outputs": [
    {
     "data": {
      "text/plain": [
       "array([[10.6503]])"
      ]
     },
     "execution_count": 44,
     "metadata": {},
     "output_type": "execute_result"
    }
   ],
   "source": [
    "np.matmul(m1, m2)"
   ]
  },
  {
   "cell_type": "code",
   "execution_count": 45,
   "metadata": {},
   "outputs": [],
   "source": [
    "def sigmoid(x):\n",
    "    return 1/(1 + np.exp(-x))"
   ]
  },
  {
   "cell_type": "code",
   "execution_count": 46,
   "metadata": {},
   "outputs": [
    {
     "name": "stdout",
     "output_type": "stream",
     "text": [
      "0.8565344988956533\n"
     ]
    }
   ],
   "source": [
    "print(sigmoid(10.6503 - 8.8635))"
   ]
  }
 ],
 "metadata": {
  "kernelspec": {
   "display_name": "Python 3",
   "language": "python",
   "name": "python3"
  },
  "language_info": {
   "codemirror_mode": {
    "name": "ipython",
    "version": 3
   },
   "file_extension": ".py",
   "mimetype": "text/x-python",
   "name": "python",
   "nbconvert_exporter": "python",
   "pygments_lexer": "ipython3",
   "version": "3.7.7"
  }
 },
 "nbformat": 4,
 "nbformat_minor": 4
}
