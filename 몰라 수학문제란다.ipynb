{
 "cells": [
  {
   "cell_type": "code",
   "execution_count": 3,
   "metadata": {},
   "outputs": [],
   "source": [
    "import math"
   ]
  },
  {
   "cell_type": "code",
   "execution_count": 4,
   "metadata": {},
   "outputs": [
    {
     "name": "stdout",
     "output_type": "stream",
     "text": [
      "값을 입력하시오: 50\n",
      "14805.0\n"
     ]
    }
   ],
   "source": [
    "X=int(input(\"값을 입력하시오: \"))\n",
    "\n",
    "Y=math.sqrt(((X-1)*((X-3)**2))*((X-5)**2))\n",
    "print(Y)"
   ]
  },
  {
   "cell_type": "code",
   "execution_count": 5,
   "metadata": {},
   "outputs": [
    {
     "name": "stdout",
     "output_type": "stream",
     "text": [
      "X값을 입력하시오: 20\n",
      "Y값을 입력하시오: 20\n",
      "유효하지 않습니다.\n"
     ]
    }
   ],
   "source": [
    "X=int(input(\"X값을 입력하시오: \"))\n",
    "Y=int(input(\"Y값을 입력하시오: \"))\n",
    "Z=math.log(X**Y)\n",
    "\n",
    "if 5<=Z and Z<=10:\n",
    "    print(\"결과값: {}\".format(Z))\n",
    "else: \n",
    "    print('유효하지 않습니다.')"
   ]
  },
  {
   "cell_type": "code",
   "execution_count": null,
   "metadata": {},
   "outputs": [],
   "source": []
  }
 ],
 "metadata": {
  "kernelspec": {
   "display_name": "Python 3",
   "language": "python",
   "name": "python3"
  },
  "language_info": {
   "codemirror_mode": {
    "name": "ipython",
    "version": 3
   },
   "file_extension": ".py",
   "mimetype": "text/x-python",
   "name": "python",
   "nbconvert_exporter": "python",
   "pygments_lexer": "ipython3",
   "version": "3.7.6"
  }
 },
 "nbformat": 4,
 "nbformat_minor": 4
}
